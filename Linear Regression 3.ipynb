{
 "cells": [
  {
   "cell_type": "code",
   "execution_count": 1,
   "metadata": {},
   "outputs": [],
   "source": [
    "import torch\n",
    "import torch.nn as nn\n",
    "import matplotlib.pyplot as plt\n",
    "import numpy as np"
   ]
  },
  {
   "cell_type": "code",
   "execution_count": 2,
   "metadata": {},
   "outputs": [
    {
     "data": {
      "text/plain": [
       "[<matplotlib.lines.Line2D at 0x7f516437a128>]"
      ]
     },
     "execution_count": 2,
     "metadata": {},
     "output_type": "execute_result"
    },
    {
     "data": {
      "image/png": "[encoded data removed]",
      "text/plain": [
       "<Figure size 432x288 with 1 Axes>"
      ]
     },
     "metadata": {
      "needs_background": "light"
     },
     "output_type": "display_data"
    }
   ],
   "source": [
    "X = torch.randn(100, 1) * 10\n",
    "y = X + torch.randn(100, 1) * 3\n",
    "plt.plot(X.numpy(), y.numpy(), 'o')"
   ]
  },
  {
   "cell_type": "code",
   "execution_count": 3,
   "metadata": {},
   "outputs": [],
   "source": [
    "class LR(nn.Module):\n",
    "    def __init__(self, input_size, output_size):\n",
    "        super().__init__()\n",
    "        self.linear = nn.Linear(input_size, output_size)\n",
    "    \n",
    "    def forward(self, x):\n",
    "        pred = self.linear(x)\n",
    "        return pred"
   ]
  },
  {
   "cell_type": "code",
   "execution_count": 4,
   "metadata": {},
   "outputs": [
    {
     "name": "stdout",
     "output_type": "stream",
     "text": [
      "LR(\n",
      "  (linear): Linear(in_features=1, out_features=1, bias=True)\n",
      ")\n"
     ]
    }
   ],
   "source": [
    "torch.manual_seed(1)\n",
    "model = LR(1, 1)\n",
    "print(model)"
   ]
  },
  {
   "cell_type": "code",
   "execution_count": 5,
   "metadata": {},
   "outputs": [],
   "source": [
    "[w, b] = model.parameters()\n",
    "def get_params():\n",
    "    return (w[0][0].item(), b[0].item())"
   ]
  },
  {
   "cell_type": "code",
   "execution_count": 6,
   "metadata": {},
   "outputs": [],
   "source": [
    "def plot_fit(title):\n",
    "    plt.title = title\n",
    "    w1, b1 = get_params()\n",
    "    x1 = np.array([-30, 30])\n",
    "    y1 = w1 * x1 +b1\n",
    "    plt.plot(x1, y1, 'r')\n",
    "    plt.scatter(X, y)\n",
    "    plt.show()\n",
    "    "
   ]
  },
  {
   "cell_type": "code",
   "execution_count": 7,
   "metadata": {},
   "outputs": [
    {
     "data": {
      "image/png": "[encoded data removed]",
      "text/plain": [
       "<Figure size 432x288 with 1 Axes>"
      ]
     },
     "metadata": {
      "needs_background": "light"
     },
     "output_type": "display_data"
    }
   ],
   "source": [
    "plot_fit('Initial Model')"
   ]
  },
  {
   "cell_type": "code",
   "execution_count": 8,
   "metadata": {},
   "outputs": [],
   "source": [
    "criterion = nn.MSELoss()\n",
    "optimizer = torch.optim.SGD(model.parameters(), lr = 0.01)"
   ]
  },
  {
   "cell_type": "code",
   "execution_count": 9,
   "metadata": {},
   "outputs": [
    {
     "name": "stdout",
     "output_type": "stream",
     "text": [
      "epoch:  1 loss:  24.959264755249023\n",
      "epoch:  2 loss:  16.865570068359375\n",
      "epoch:  3 loss:  12.753350257873535\n",
      "epoch:  4 loss:  10.65747356414795\n",
      "epoch:  5 loss:  9.582995414733887\n",
      "epoch:  6 loss:  9.02617073059082\n",
      "epoch:  7 loss:  8.73193359375\n",
      "epoch:  8 loss:  8.571128845214844\n",
      "epoch:  9 loss:  8.478348731994629\n",
      "epoch:  10 loss:  8.420456886291504\n",
      "epoch:  11 loss:  8.38066291809082\n",
      "epoch:  12 loss:  8.350445747375488\n",
      "epoch:  13 loss:  8.32547664642334\n",
      "epoch:  14 loss:  8.303545951843262\n",
      "epoch:  15 loss:  8.283523559570312\n",
      "epoch:  16 loss:  8.26481819152832\n",
      "epoch:  17 loss:  8.24712085723877\n",
      "epoch:  18 loss:  8.23025894165039\n",
      "epoch:  19 loss:  8.214132308959961\n",
      "epoch:  20 loss:  8.198678970336914\n",
      "epoch:  21 loss:  8.183855056762695\n",
      "epoch:  22 loss:  8.16962718963623\n",
      "epoch:  23 loss:  8.155966758728027\n",
      "epoch:  24 loss:  8.142849922180176\n",
      "epoch:  25 loss:  8.130253791809082\n",
      "epoch:  26 loss:  8.118156433105469\n",
      "epoch:  27 loss:  8.106538772583008\n",
      "epoch:  28 loss:  8.095380783081055\n",
      "epoch:  29 loss:  8.084665298461914\n",
      "epoch:  30 loss:  8.074374198913574\n",
      "epoch:  31 loss:  8.06449031829834\n",
      "epoch:  32 loss:  8.054997444152832\n",
      "epoch:  33 loss:  8.045881271362305\n",
      "epoch:  34 loss:  8.037125587463379\n",
      "epoch:  35 loss:  8.028716087341309\n",
      "epoch:  36 loss:  8.02064037322998\n",
      "epoch:  37 loss:  8.012884140014648\n",
      "epoch:  38 loss:  8.0054349899292\n",
      "epoch:  39 loss:  7.998281002044678\n",
      "epoch:  40 loss:  7.991410255432129\n",
      "epoch:  41 loss:  7.984811782836914\n",
      "epoch:  42 loss:  7.978474140167236\n",
      "epoch:  43 loss:  7.972387313842773\n",
      "epoch:  44 loss:  7.966541767120361\n",
      "epoch:  45 loss:  7.960928440093994\n",
      "epoch:  46 loss:  7.955536365509033\n",
      "epoch:  47 loss:  7.950357913970947\n",
      "epoch:  48 loss:  7.945384502410889\n",
      "epoch:  49 loss:  7.940608501434326\n",
      "epoch:  50 loss:  7.936021327972412\n",
      "epoch:  51 loss:  7.931615829467773\n",
      "epoch:  52 loss:  7.927385330200195\n",
      "epoch:  53 loss:  7.92332124710083\n",
      "epoch:  54 loss:  7.919418811798096\n",
      "epoch:  55 loss:  7.915670394897461\n",
      "epoch:  56 loss:  7.9120707511901855\n",
      "epoch:  57 loss:  7.908613681793213\n",
      "epoch:  58 loss:  7.9052934646606445\n",
      "epoch:  59 loss:  7.90210485458374\n",
      "epoch:  60 loss:  7.899042129516602\n",
      "epoch:  61 loss:  7.896100997924805\n",
      "epoch:  62 loss:  7.893275737762451\n",
      "epoch:  63 loss:  7.890563011169434\n",
      "epoch:  64 loss:  7.887957572937012\n",
      "epoch:  65 loss:  7.885455131530762\n",
      "epoch:  66 loss:  7.883052349090576\n",
      "epoch:  67 loss:  7.880743980407715\n",
      "epoch:  68 loss:  7.8785271644592285\n",
      "epoch:  69 loss:  7.87639856338501\n",
      "epoch:  70 loss:  7.874353885650635\n",
      "epoch:  71 loss:  7.872389793395996\n",
      "epoch:  72 loss:  7.870503902435303\n",
      "epoch:  73 loss:  7.868692874908447\n",
      "epoch:  74 loss:  7.866953372955322\n",
      "epoch:  75 loss:  7.8652825355529785\n",
      "epoch:  76 loss:  7.863677978515625\n",
      "epoch:  77 loss:  7.862137317657471\n",
      "epoch:  78 loss:  7.860657215118408\n",
      "epoch:  79 loss:  7.859235763549805\n",
      "epoch:  80 loss:  7.857870578765869\n",
      "epoch:  81 loss:  7.856559753417969\n",
      "epoch:  82 loss:  7.8553009033203125\n",
      "epoch:  83 loss:  7.854091644287109\n",
      "epoch:  84 loss:  7.852930068969727\n",
      "epoch:  85 loss:  7.8518147468566895\n",
      "epoch:  86 loss:  7.850743770599365\n",
      "epoch:  87 loss:  7.849715232849121\n",
      "epoch:  88 loss:  7.848726749420166\n",
      "epoch:  89 loss:  7.847777843475342\n",
      "epoch:  90 loss:  7.846866130828857\n",
      "epoch:  91 loss:  7.845991134643555\n",
      "epoch:  92 loss:  7.845150470733643\n",
      "epoch:  93 loss:  7.844343185424805\n",
      "epoch:  94 loss:  7.843567848205566\n",
      "epoch:  95 loss:  7.842823505401611\n",
      "epoch:  96 loss:  7.842107772827148\n",
      "epoch:  97 loss:  7.841421127319336\n",
      "epoch:  98 loss:  7.840761661529541\n",
      "epoch:  99 loss:  7.840127944946289\n",
      "epoch:  100 loss:  7.839519500732422\n"
     ]
    }
   ],
   "source": [
    "epochs = 100\n",
    "losses = []\n",
    "for i in range(epochs):\n",
    "    y_pred = model.forward(X)\n",
    "    loss = criterion(y_pred, y)\n",
    "    print('epoch: ', i+1, \"loss: \", loss.item())\n",
    "    \n",
    "    losses.append(loss)\n",
    "    optimizer.zero_grad()\n",
    "    loss.backward()\n",
    "    optimizer.step()"
   ]
  },
  {
   "cell_type": "code",
   "execution_count": 10,
   "metadata": {},
   "outputs": [
    {
     "data": {
      "text/plain": [
       "Text(0.5, 0, 'epochs')"
      ]
     },
     "execution_count": 10,
     "metadata": {},
     "output_type": "execute_result"
    },
    {
     "data": {
      "image/png": "[encoded data removed]",
      "text/plain": [
       "<Figure size 432x288 with 1 Axes>"
      ]
     },
     "metadata": {
      "needs_background": "light"
     },
     "output_type": "display_data"
    }
   ],
   "source": [
    "plt.plot(range(epochs), losses)\n",
    "plt.ylabel('Loss')\n",
    "plt.xlabel('epochs')"
   ]
  },
  {
   "cell_type": "code",
   "execution_count": 11,
   "metadata": {},
   "outputs": [
    {
     "data": {
      "image/png": "[encoded data removed]",
      "text/plain": [
       "<Figure size 432x288 with 1 Axes>"
      ]
     },
     "metadata": {
      "needs_background": "light"
     },
     "output_type": "display_data"
    }
   ],
   "source": [
    "plot_fit(\"trained\")"
   ]
  },
  {
   "cell_type": "code",
   "execution_count": null,
   "metadata": {},
   "outputs": [],
   "source": []
  }
 ],
 "metadata": {
  "kernelspec": {
   "display_name": "Python 3",
   "language": "python",
   "name": "python3"
  },
  "language_info": {
   "codemirror_mode": {
    "name": "ipython",
    "version": 3
   },
   "file_extension": ".py",
   "mimetype": "text/x-python",
   "name": "python",
   "nbconvert_exporter": "python",
   "pygments_lexer": "ipython3",
   "version": "3.7.1"
  }
 },
 "nbformat": 4,
 "nbformat_minor": 2
}
